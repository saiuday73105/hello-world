{
  "nbformat": 4,
  "nbformat_minor": 0,
  "metadata": {
    "colab": {
      "name": "Car Performance.ipynb",
      "version": "0.3.2",
      "provenance": [],
      "collapsed_sections": [],
      "include_colab_link": true
    },
    "kernelspec": {
      "display_name": "Python 3",
      "language": "python",
      "name": "python3"
    }
  },
  "cells": [
    {
      "cell_type": "markdown",
      "metadata": {
        "id": "view-in-github",
        "colab_type": "text"
      },
      "source": [
        "<a href=\"https://colab.research.google.com/github/saiuday73105/hello-world/blob/master/Car_Performance.ipynb\" target=\"_parent\"><img src=\"https://colab.research.google.com/assets/colab-badge.svg\" alt=\"Open In Colab\"/></a>"
      ]
    },
    {
      "metadata": {
        "id": "eP-M63AvDb3u",
        "colab_type": "code",
        "colab": {
          "base_uri": "https://localhost:8080/",
          "height": 244
        },
        "outputId": "afd1d12f-bd67-4d17-8f01-b7dfce077763"
      },
      "cell_type": "code",
      "source": [
        "import pandas as pd\n",
        "\n",
        "url = 'https://raw.githubusercontent.com/aniketraj1947/tesla/master/dataset.csv?token=AmGM6S_zS5wEmnKcVLHaIgzkKXsy6JbNks5cqNgswA%3D%3D'\n",
        "df = pd.read_csv(url)\n",
        "\n",
        "df.head()"
      ],
      "execution_count": 1,
      "outputs": [
        {
          "output_type": "execute_result",
          "data": {
            "text/html": [
              "<div>\n",
              "<style scoped>\n",
              "    .dataframe tbody tr th:only-of-type {\n",
              "        vertical-align: middle;\n",
              "    }\n",
              "\n",
              "    .dataframe tbody tr th {\n",
              "        vertical-align: top;\n",
              "    }\n",
              "\n",
              "    .dataframe thead th {\n",
              "        text-align: right;\n",
              "    }\n",
              "</style>\n",
              "<table border=\"1\" class=\"dataframe\">\n",
              "  <thead>\n",
              "    <tr style=\"text-align: right;\">\n",
              "      <th></th>\n",
              "      <th>index</th>\n",
              "      <th>deviceid</th>\n",
              "      <th>devicedesc</th>\n",
              "      <th>timestamp</th>\n",
              "      <th>date</th>\n",
              "      <th>time</th>\n",
              "      <th>statuscode</th>\n",
              "      <th>statusdesc</th>\n",
              "      <th>latitude</th>\n",
              "      <th>longitude</th>\n",
              "      <th>...</th>\n",
              "      <th>faultcode</th>\n",
              "      <th>faultcodes</th>\n",
              "      <th>analog0</th>\n",
              "      <th>analog1</th>\n",
              "      <th>analog2</th>\n",
              "      <th>analog3</th>\n",
              "      <th>pulsecount</th>\n",
              "      <th>drivermessage</th>\n",
              "      <th>datasource</th>\n",
              "      <th>rawdata</th>\n",
              "    </tr>\n",
              "  </thead>\n",
              "  <tbody>\n",
              "    <tr>\n",
              "      <th>0</th>\n",
              "      <td>1</td>\n",
              "      <td>352093081552068</td>\n",
              "      <td>CG04MP7400</td>\n",
              "      <td>1552792519</td>\n",
              "      <td>2019/03/17</td>\n",
              "      <td>08:45:19</td>\n",
              "      <td>0xF060</td>\n",
              "      <td>Heartbeat</td>\n",
              "      <td>21.24129</td>\n",
              "      <td>81.67137</td>\n",
              "      <td>...</td>\n",
              "      <td>NaN</td>\n",
              "      <td>NaN</td>\n",
              "      <td>0.0</td>\n",
              "      <td>0.0</td>\n",
              "      <td>0.0</td>\n",
              "      <td>0.0</td>\n",
              "      <td>0.0</td>\n",
              "      <td>NaN</td>\n",
              "      <td>NaN</td>\n",
              "      <td>NaN</td>\n",
              "    </tr>\n",
              "    <tr>\n",
              "      <th>1</th>\n",
              "      <td>2</td>\n",
              "      <td>352093081552068</td>\n",
              "      <td>CG04MP7400</td>\n",
              "      <td>1552792529</td>\n",
              "      <td>2019/03/17</td>\n",
              "      <td>08:45:29</td>\n",
              "      <td>0xF060</td>\n",
              "      <td>Heartbeat</td>\n",
              "      <td>21.24129</td>\n",
              "      <td>81.67137</td>\n",
              "      <td>...</td>\n",
              "      <td>NaN</td>\n",
              "      <td>NaN</td>\n",
              "      <td>0.0</td>\n",
              "      <td>0.0</td>\n",
              "      <td>0.0</td>\n",
              "      <td>0.0</td>\n",
              "      <td>0.0</td>\n",
              "      <td>NaN</td>\n",
              "      <td>NaN</td>\n",
              "      <td>NaN</td>\n",
              "    </tr>\n",
              "    <tr>\n",
              "      <th>2</th>\n",
              "      <td>3</td>\n",
              "      <td>352093081552068</td>\n",
              "      <td>CG04MP7400</td>\n",
              "      <td>1552792539</td>\n",
              "      <td>2019/03/17</td>\n",
              "      <td>08:45:39</td>\n",
              "      <td>0xF060</td>\n",
              "      <td>Heartbeat</td>\n",
              "      <td>21.24129</td>\n",
              "      <td>81.67137</td>\n",
              "      <td>...</td>\n",
              "      <td>NaN</td>\n",
              "      <td>NaN</td>\n",
              "      <td>0.0</td>\n",
              "      <td>0.0</td>\n",
              "      <td>0.0</td>\n",
              "      <td>0.0</td>\n",
              "      <td>0.0</td>\n",
              "      <td>NaN</td>\n",
              "      <td>NaN</td>\n",
              "      <td>NaN</td>\n",
              "    </tr>\n",
              "    <tr>\n",
              "      <th>3</th>\n",
              "      <td>4</td>\n",
              "      <td>352093081552068</td>\n",
              "      <td>CG04MP7400</td>\n",
              "      <td>1552792549</td>\n",
              "      <td>2019/03/17</td>\n",
              "      <td>08:45:49</td>\n",
              "      <td>0xF060</td>\n",
              "      <td>Heartbeat</td>\n",
              "      <td>21.24129</td>\n",
              "      <td>81.67137</td>\n",
              "      <td>...</td>\n",
              "      <td>NaN</td>\n",
              "      <td>NaN</td>\n",
              "      <td>0.0</td>\n",
              "      <td>0.0</td>\n",
              "      <td>0.0</td>\n",
              "      <td>0.0</td>\n",
              "      <td>0.0</td>\n",
              "      <td>NaN</td>\n",
              "      <td>NaN</td>\n",
              "      <td>NaN</td>\n",
              "    </tr>\n",
              "    <tr>\n",
              "      <th>4</th>\n",
              "      <td>5</td>\n",
              "      <td>352093081552068</td>\n",
              "      <td>CG04MP7400</td>\n",
              "      <td>1552792559</td>\n",
              "      <td>2019/03/17</td>\n",
              "      <td>08:45:59</td>\n",
              "      <td>0xF060</td>\n",
              "      <td>Heartbeat</td>\n",
              "      <td>21.24129</td>\n",
              "      <td>81.67137</td>\n",
              "      <td>...</td>\n",
              "      <td>NaN</td>\n",
              "      <td>NaN</td>\n",
              "      <td>0.0</td>\n",
              "      <td>0.0</td>\n",
              "      <td>0.0</td>\n",
              "      <td>0.0</td>\n",
              "      <td>0.0</td>\n",
              "      <td>NaN</td>\n",
              "      <td>NaN</td>\n",
              "      <td>NaN</td>\n",
              "    </tr>\n",
              "  </tbody>\n",
              "</table>\n",
              "<p>5 rows × 77 columns</p>\n",
              "</div>"
            ],
            "text/plain": [
              "   index         deviceid  devicedesc   timestamp        date      time  \\\n",
              "0      1  352093081552068  CG04MP7400  1552792519  2019/03/17  08:45:19   \n",
              "1      2  352093081552068  CG04MP7400  1552792529  2019/03/17  08:45:29   \n",
              "2      3  352093081552068  CG04MP7400  1552792539  2019/03/17  08:45:39   \n",
              "3      4  352093081552068  CG04MP7400  1552792549  2019/03/17  08:45:49   \n",
              "4      5  352093081552068  CG04MP7400  1552792559  2019/03/17  08:45:59   \n",
              "\n",
              "  statuscode statusdesc  latitude  longitude   ...     faultcode  faultcodes  \\\n",
              "0     0xF060  Heartbeat  21.24129   81.67137   ...           NaN         NaN   \n",
              "1     0xF060  Heartbeat  21.24129   81.67137   ...           NaN         NaN   \n",
              "2     0xF060  Heartbeat  21.24129   81.67137   ...           NaN         NaN   \n",
              "3     0xF060  Heartbeat  21.24129   81.67137   ...           NaN         NaN   \n",
              "4     0xF060  Heartbeat  21.24129   81.67137   ...           NaN         NaN   \n",
              "\n",
              "   analog0  analog1  analog2  analog3 pulsecount  drivermessage  datasource  \\\n",
              "0      0.0      0.0      0.0      0.0        0.0            NaN         NaN   \n",
              "1      0.0      0.0      0.0      0.0        0.0            NaN         NaN   \n",
              "2      0.0      0.0      0.0      0.0        0.0            NaN         NaN   \n",
              "3      0.0      0.0      0.0      0.0        0.0            NaN         NaN   \n",
              "4      0.0      0.0      0.0      0.0        0.0            NaN         NaN   \n",
              "\n",
              "   rawdata  \n",
              "0      NaN  \n",
              "1      NaN  \n",
              "2      NaN  \n",
              "3      NaN  \n",
              "4      NaN  \n",
              "\n",
              "[5 rows x 77 columns]"
            ]
          },
          "metadata": {
            "tags": []
          },
          "execution_count": 1
        }
      ]
    },
    {
      "metadata": {
        "id": "6uB2UKSbDb33",
        "colab_type": "code",
        "colab": {}
      },
      "cell_type": "code",
      "source": [
        "df['sum']= None\n",
        "df['sum1'] = None"
      ],
      "execution_count": 0,
      "outputs": []
    },
    {
      "metadata": {
        "id": "seerdqmIDb37",
        "colab_type": "code",
        "colab": {
          "base_uri": "https://localhost:8080/",
          "height": 101
        },
        "outputId": "10e19863-158e-46a6-9ecd-6ca447b279c1"
      },
      "cell_type": "code",
      "source": [
        "for index, column in df['index'].iteritems():\n",
        "    df['sum'][index] = 1 if (((df['statusdesc'][index]=='Heartbeat') and (df['batteryvolts'][index] >=12.6)) or ((df['statusdesc'][index]=='Location') and ((df['batteryvolts'][index]>=13.7)and(df['batteryvolts'][index]<=14.7)))) else 0"
      ],
      "execution_count": 28,
      "outputs": [
        {
          "output_type": "stream",
          "text": [
            "/usr/local/lib/python3.6/dist-packages/ipykernel_launcher.py:2: SettingWithCopyWarning: \n",
            "A value is trying to be set on a copy of a slice from a DataFrame\n",
            "\n",
            "See the caveats in the documentation: http://pandas.pydata.org/pandas-docs/stable/indexing.html#indexing-view-versus-copy\n",
            "  \n"
          ],
          "name": "stderr"
        }
      ]
    },
    {
      "metadata": {
        "id": "ktpowOGZDb4B",
        "colab_type": "code",
        "colab": {
          "base_uri": "https://localhost:8080/",
          "height": 96
        },
        "outputId": "3c8bd77c-cdfd-434b-bd66-bd628aecd071"
      },
      "cell_type": "code",
      "source": [
        "df[df['sum']==0]\n",
        "df[df['sum1']==0]"
      ],
      "execution_count": 18,
      "outputs": [
        {
          "output_type": "execute_result",
          "data": {
            "text/html": [
              "<div>\n",
              "<style scoped>\n",
              "    .dataframe tbody tr th:only-of-type {\n",
              "        vertical-align: middle;\n",
              "    }\n",
              "\n",
              "    .dataframe tbody tr th {\n",
              "        vertical-align: top;\n",
              "    }\n",
              "\n",
              "    .dataframe thead th {\n",
              "        text-align: right;\n",
              "    }\n",
              "</style>\n",
              "<table border=\"1\" class=\"dataframe\">\n",
              "  <thead>\n",
              "    <tr style=\"text-align: right;\">\n",
              "      <th></th>\n",
              "      <th>index</th>\n",
              "      <th>deviceid</th>\n",
              "      <th>devicedesc</th>\n",
              "      <th>timestamp</th>\n",
              "      <th>date</th>\n",
              "      <th>time</th>\n",
              "      <th>statuscode</th>\n",
              "      <th>statusdesc</th>\n",
              "      <th>latitude</th>\n",
              "      <th>longitude</th>\n",
              "      <th>...</th>\n",
              "      <th>analog0</th>\n",
              "      <th>analog1</th>\n",
              "      <th>analog2</th>\n",
              "      <th>analog3</th>\n",
              "      <th>pulsecount</th>\n",
              "      <th>drivermessage</th>\n",
              "      <th>datasource</th>\n",
              "      <th>rawdata</th>\n",
              "      <th>sum</th>\n",
              "      <th>sum1</th>\n",
              "    </tr>\n",
              "  </thead>\n",
              "  <tbody>\n",
              "  </tbody>\n",
              "</table>\n",
              "<p>0 rows × 79 columns</p>\n",
              "</div>"
            ],
            "text/plain": [
              "Empty DataFrame\n",
              "Columns: [index, deviceid, devicedesc, timestamp, date, time, statuscode, statusdesc, latitude, longitude, accuracy, celllatitude, celllongitude, cellaccuracy, gpsage, satellites, speedh, gearno, speedlimit, altitude, odometer, inputstate, address, geozonedesc, subdivision, batterypercent, batteryvolts, batterytemp, malfunctionlamp, fuellevel, fuellevelvolume, fueleconomy, fueltotal, fuelremain, fuelidle, fuelengineon, fuelpressure, fuelrate, enginerpm, enginehours, engineonhours, engineload, idlehours, transoiltemp, coolantlevel, coolanttemp, brakegforce, brakepressure, brakepos, oillevel, oilpressure, ptoengaged, ptohours, vbatteryvolts, throttlepos, intaketemp, airpressure, airfilterpressure, massairflow, turbopressure, driverid, driverstatus, rfidtag, sampleindex, sampleid, attachurl, createdatetime, faultcode, faultcodes, analog0, analog1, analog2, analog3, pulsecount, drivermessage, datasource, rawdata, sum, sum1]\n",
              "Index: []\n",
              "\n",
              "[0 rows x 79 columns]"
            ]
          },
          "metadata": {
            "tags": []
          },
          "execution_count": 18
        }
      ]
    },
    {
      "metadata": {
        "id": "o8UM5iivDb4G",
        "colab_type": "code",
        "colab": {
          "base_uri": "https://localhost:8080/",
          "height": 101
        },
        "outputId": "c29e8cac-e57a-4f40-f51d-c4fae06ba7e0"
      },
      "cell_type": "code",
      "source": [
        "for index, col in df['index'].iteritems():\n",
        "   df['sum1'][index] = 1 if (df['malfunctionlamp'][index]=='Off') else 0"
      ],
      "execution_count": 24,
      "outputs": [
        {
          "output_type": "stream",
          "text": [
            "/usr/local/lib/python3.6/dist-packages/ipykernel_launcher.py:2: SettingWithCopyWarning: \n",
            "A value is trying to be set on a copy of a slice from a DataFrame\n",
            "\n",
            "See the caveats in the documentation: http://pandas.pydata.org/pandas-docs/stable/indexing.html#indexing-view-versus-copy\n",
            "  \n"
          ],
          "name": "stderr"
        }
      ]
    },
    {
      "metadata": {
        "id": "rnJpIM5fDb4L",
        "colab_type": "code",
        "colab": {
          "base_uri": "https://localhost:8080/",
          "height": 50
        },
        "outputId": "77b41230-4cf4-4389-f3f7-ce8d48d530c8"
      },
      "cell_type": "code",
      "source": [
        "y1 = ((df[df['sum']==1].count()['index'])/((df[df['sum']==1].count()['index'])+(df[df['sum']==0].count()['index'])))*10\n",
        "y2 = ((df[df['sum1']==1].count()['index'])/((df[df['sum1']==1].count()['index'])+(df[df['sum1']==0].count()['index'])))*10\n",
        "print(y1)\n",
        "print(y2)"
      ],
      "execution_count": 32,
      "outputs": [
        {
          "output_type": "stream",
          "text": [
            "9.76\n",
            "10.0\n"
          ],
          "name": "stdout"
        }
      ]
    },
    {
      "metadata": {
        "id": "NBzmOc-UuU6-",
        "colab_type": "code",
        "colab": {
          "base_uri": "https://localhost:8080/",
          "height": 319
        },
        "outputId": "2fba0d47-7771-4567-86eb-687452b23053"
      },
      "cell_type": "code",
      "source": [
        "df.columns"
      ],
      "execution_count": 33,
      "outputs": [
        {
          "output_type": "execute_result",
          "data": {
            "text/plain": [
              "Index(['index', 'deviceid', 'devicedesc', 'timestamp', 'date', 'time',\n",
              "       'statuscode', 'statusdesc', 'latitude', 'longitude', 'accuracy',\n",
              "       'celllatitude', 'celllongitude', 'cellaccuracy', 'gpsage', 'satellites',\n",
              "       'speedh', 'gearno', 'speedlimit', 'altitude', 'odometer', 'inputstate',\n",
              "       'address', 'geozonedesc', 'subdivision', 'batterypercent',\n",
              "       'batteryvolts', 'batterytemp', 'malfunctionlamp', 'fuellevel',\n",
              "       'fuellevelvolume', 'fueleconomy', 'fueltotal', 'fuelremain', 'fuelidle',\n",
              "       'fuelengineon', 'fuelpressure', 'fuelrate', 'enginerpm', 'enginehours',\n",
              "       'engineonhours', 'engineload', 'idlehours', 'transoiltemp',\n",
              "       'coolantlevel', 'coolanttemp', 'brakegforce', 'brakepressure',\n",
              "       'brakepos', 'oillevel', 'oilpressure', 'ptoengaged', 'ptohours',\n",
              "       'vbatteryvolts', 'throttlepos', 'intaketemp', 'airpressure',\n",
              "       'airfilterpressure', 'massairflow', 'turbopressure', 'driverid',\n",
              "       'driverstatus', 'rfidtag', 'sampleindex', 'sampleid', 'attachurl',\n",
              "       'createdatetime', 'faultcode', 'faultcodes', 'analog0', 'analog1',\n",
              "       'analog2', 'analog3', 'pulsecount', 'drivermessage', 'datasource',\n",
              "       'rawdata', 'sum', 'sum1'],\n",
              "      dtype='object')"
            ]
          },
          "metadata": {
            "tags": []
          },
          "execution_count": 33
        }
      ]
    },
    {
      "metadata": {
        "id": "GRULNAmfRrHH",
        "colab_type": "code",
        "colab": {}
      },
      "cell_type": "code",
      "source": [
        "df['speedh'] = df.speedh.str.replace(r\"[a-zA-Z ]\",'').astype(int)"
      ],
      "execution_count": 0,
      "outputs": []
    },
    {
      "metadata": {
        "id": "zZ--8VjTW3iz",
        "colab_type": "code",
        "colab": {}
      },
      "cell_type": "code",
      "source": [
        "df['sum2'] = None"
      ],
      "execution_count": 0,
      "outputs": []
    },
    {
      "metadata": {
        "id": "wnrovNlESHur",
        "colab_type": "code",
        "colab": {
          "base_uri": "https://localhost:8080/",
          "height": 101
        },
        "outputId": "e957e2a6-d915-445d-a467-40478a1a2258"
      },
      "cell_type": "code",
      "source": [
        "for index, col in df['index'].iteritems():\n",
        "   df['sum2'][index] = 1 if (((df['gearno'][index]==1) and (df['speedh'][index]<=15)) or ((df['gearno'][index]==2) and ((df['speedh'][index]>15)and((df['speedh'][index]<=25)))) or ((df['gearno'][index]==3) and ((df['speedh'][index]>25)and((df['speedh'][index]<=31)))) or ((df['gearno'][index]==4) and ((df['speedh'][index]>31)and((df['speedh'][index]<=41)))) or ((df['gearno'][index]==5) and (df['speedh'][index]>41))) else 0"
      ],
      "execution_count": 48,
      "outputs": [
        {
          "output_type": "stream",
          "text": [
            "/usr/local/lib/python3.6/dist-packages/ipykernel_launcher.py:2: SettingWithCopyWarning: \n",
            "A value is trying to be set on a copy of a slice from a DataFrame\n",
            "\n",
            "See the caveats in the documentation: http://pandas.pydata.org/pandas-docs/stable/indexing.html#indexing-view-versus-copy\n",
            "  \n"
          ],
          "name": "stderr"
        }
      ]
    },
    {
      "metadata": {
        "id": "unMDmXe5SKi4",
        "colab_type": "code",
        "colab": {
          "base_uri": "https://localhost:8080/",
          "height": 34
        },
        "outputId": "5e93b9e0-cadb-43c7-ab1b-2669eb535e7e"
      },
      "cell_type": "code",
      "source": [
        "x1 = ((df[df['sum2']==1].count()['index'])/((df[df['sum2']==1].count()['index'])+(df[df['sum2']==0].count()['index'])))*10\n",
        "print(x1)"
      ],
      "execution_count": 50,
      "outputs": [
        {
          "output_type": "stream",
          "text": [
            "6.470000000000001\n"
          ],
          "name": "stdout"
        }
      ]
    }
  ]
}